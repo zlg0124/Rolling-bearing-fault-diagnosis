{
 "cells": [
  {
   "cell_type": "markdown",
   "metadata": {},
   "source": [
    "## 维度扩展"
   ]
  },
  {
   "cell_type": "code",
   "execution_count": 13,
   "metadata": {},
   "outputs": [],
   "source": [
    "import numpy as np\n",
    "import pickle\n",
    "import scipy.sparse as sp"
   ]
  },
  {
   "cell_type": "code",
   "execution_count": 4,
   "metadata": {},
   "outputs": [
    {
     "name": "stdout",
     "output_type": "stream",
     "text": [
      "[1354, 2418]\n"
     ]
    }
   ],
   "source": [
    "idx_i = np.random.randint(0, 2708)\n",
    "idx_j = np.random.randint(0, 2708)\n",
    "a =[idx_i, idx_j]\n",
    "print(a)"
   ]
  },
  {
   "cell_type": "code",
   "execution_count": 10,
   "metadata": {},
   "outputs": [],
   "source": [
    "with open('/Users/wangjun/bearning_fault/Demo_GCN/data/cora/data.pkl', 'rb') as f:\n",
    "    feas = pickle.load(f)\n",
    "f.close()"
   ]
  },
  {
   "cell_type": "code",
   "execution_count": 14,
   "metadata": {},
   "outputs": [
    {
     "name": "stdout",
     "output_type": "stream",
     "text": [
      "True\n"
     ]
    }
   ],
   "source": [
    "adj = feas['adj']\n",
    "print(isinstance(adj, sp.csr_matrix))"
   ]
  },
  {
   "cell_type": "code",
   "execution_count": 16,
   "metadata": {},
   "outputs": [
    {
     "name": "stdout",
     "output_type": "stream",
     "text": [
      "[[   0    8]\n",
      " [   0  435]\n",
      " [   0  544]\n",
      " ...\n",
      " [2705 1839]\n",
      " [2705 1840]\n",
      " [2705 2216]]\n"
     ]
    }
   ],
   "source": [
    "adj = adj.tocoo()\n",
    "index = np.vstack((adj.row, adj.col))\n",
    "print(index.T)"
   ]
  },
  {
   "cell_type": "code",
   "execution_count": 20,
   "metadata": {},
   "outputs": [
    {
     "name": "stdout",
     "output_type": "stream",
     "text": [
      "(2, 1, 5102)\n",
      "(2, 1, 5102)\n"
     ]
    }
   ],
   "source": [
    "# 判断生成的边是否在原来的边中(在这里利用了广播机制)\n",
    "print(index[:, None, :].shape)\n",
    "print(index[:, None].shape)"
   ]
  },
  {
   "cell_type": "code",
   "execution_count": 27,
   "metadata": {},
   "outputs": [
    {
     "data": {
      "text/plain": [
       "(5102, 1, 2)"
      ]
     },
     "execution_count": 27,
     "metadata": {},
     "output_type": "execute_result"
    }
   ],
   "source": [
    "index[:, None].shape\n",
    "index.T[:, None].shape"
   ]
  },
  {
   "cell_type": "code",
   "execution_count": 28,
   "metadata": {},
   "outputs": [
    {
     "data": {
      "text/plain": [
       "array([[[ 1354,  2410]],\n",
       "\n",
       "       [[ 1354,  1983]],\n",
       "\n",
       "       [[ 1354,  1874]],\n",
       "\n",
       "       ...,\n",
       "\n",
       "       [[-1351,   579]],\n",
       "\n",
       "       [[-1351,   578]],\n",
       "\n",
       "       [[-1351,   202]]])"
      ]
     },
     "execution_count": 28,
     "metadata": {},
     "output_type": "execute_result"
    }
   ],
   "source": [
    "a - index.T[:, None]"
   ]
  },
  {
   "cell_type": "code",
   "execution_count": 22,
   "metadata": {},
   "outputs": [],
   "source": [
    "def ismember(a, b, tol=5):\n",
    "    rows_close = np.all(np.round(a - b[:, None], tol) == 0, axis=-1)\n",
    "    return np.any(rows_close)"
   ]
  },
  {
   "cell_type": "code",
   "execution_count": 24,
   "metadata": {},
   "outputs": [
    {
     "data": {
      "text/plain": [
       "False"
      ]
     },
     "execution_count": 24,
     "metadata": {},
     "output_type": "execute_result"
    }
   ],
   "source": [
    "ismember(a, index.T)"
   ]
  },
  {
   "cell_type": "code",
   "execution_count": 31,
   "metadata": {},
   "outputs": [
    {
     "name": "stdout",
     "output_type": "stream",
     "text": [
      "(2, 4, 3)\n"
     ]
    }
   ],
   "source": [
    "# 广播机制首先进行右对齐\n",
    "x1 = np.random.randn(2, 4, 3)\n",
    "x2 = np.random.randn(1, 3)\n",
    "x3 = x1 * x2\n",
    "print(x3.shape)"
   ]
  },
  {
   "cell_type": "markdown",
   "metadata": {},
   "source": [
    "## sp.dia_matrix的用法"
   ]
  },
  {
   "cell_type": "code",
   "execution_count": 35,
   "metadata": {},
   "outputs": [
    {
     "name": "stdout",
     "output_type": "stream",
     "text": [
      "(2708,)\n",
      "(1, 2708)\n"
     ]
    }
   ],
   "source": [
    "print(adj.diagonal().shape)\n",
    "print(adj.diagonal()[np.newaxis, :].shape)\n",
    "print(adj.diagonal()[np.newaxis, :][0])"
   ]
  },
  {
   "cell_type": "code",
   "execution_count": 37,
   "metadata": {},
   "outputs": [
    {
     "name": "stdout",
     "output_type": "stream",
     "text": [
      "[[1 0 0]\n",
      " [0 2 0]\n",
      " [0 0 3]]\n"
     ]
    }
   ],
   "source": [
    "## sp.dia_matirx的用法\n",
    "data = np.array([[1, 2, 3]])\n",
    "dia_mx = sp.dia_matrix((data, [0]), shape=(3, 3))\n",
    "print(dia_mx.toarray())"
   ]
  },
  {
   "cell_type": "code",
   "execution_count": 38,
   "metadata": {},
   "outputs": [
    {
     "name": "stdout",
     "output_type": "stream",
     "text": [
      "[[0 2 0]\n",
      " [0 0 3]\n",
      " [0 0 0]]\n"
     ]
    }
   ],
   "source": [
    "## sp.dia_matirx的用法\n",
    "data = np.array([[1, 2, 3]])\n",
    "dia_mx = sp.dia_matrix((data, [1]), shape=(3, 3))\n",
    "print(dia_mx.toarray())"
   ]
  },
  {
   "cell_type": "markdown",
   "metadata": {},
   "source": [
    "## pos_weight"
   ]
  },
  {
   "cell_type": "code",
   "execution_count": 41,
   "metadata": {},
   "outputs": [
    {
     "name": "stdout",
     "output_type": "stream",
     "text": [
      "1.6666666666666667\n"
     ]
    }
   ],
   "source": [
    "adj_sample = np.array([\n",
    "    [0, 1, 0, 1],\n",
    "    [1, 0, 1, 0],\n",
    "    [0, 1, 0, 0],\n",
    "    [1, 0, 0, 0]])\n",
    "\n",
    "total_edge = adj_sample.shape[0] * adj_sample.shape[0]\n",
    "actual_edge = adj_sample.sum()\n",
    "pos_weight = (total_edge - actual_edge) / actual_edge\n",
    "# 正负样本的比重\n",
    "print(pos_weight)"
   ]
  },
  {
   "cell_type": "markdown",
   "metadata": {},
   "source": [
    "## Norm"
   ]
  },
  {
   "cell_type": "code",
   "execution_count": 43,
   "metadata": {},
   "outputs": [
    {
     "name": "stdout",
     "output_type": "stream",
     "text": [
      "6.185392607744513e-07\n"
     ]
    }
   ],
   "source": [
    "norm = adj_sample.shape[0] * adj_sample.shape[0] / float((adj_sample.shape[0] * adj_sample.shape[0]- adj.sum()) ** 2)\n",
    "print(norm)"
   ]
  },
  {
   "cell_type": "code",
   "execution_count": null,
   "metadata": {},
   "outputs": [],
   "source": []
  }
 ],
 "metadata": {
  "kernelspec": {
   "display_name": "pytorch",
   "language": "python",
   "name": "python3"
  },
  "language_info": {
   "codemirror_mode": {
    "name": "ipython",
    "version": 3
   },
   "file_extension": ".py",
   "mimetype": "text/x-python",
   "name": "python",
   "nbconvert_exporter": "python",
   "pygments_lexer": "ipython3",
   "version": "3.10.9"
  }
 },
 "nbformat": 4,
 "nbformat_minor": 2
}
